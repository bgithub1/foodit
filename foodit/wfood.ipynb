{
 "cells": [
  {
   "cell_type": "markdown",
   "metadata": {},
   "source": [
    "## Whole Foods Helper:"
   ]
  },
  {
   "cell_type": "code",
   "execution_count": null,
   "metadata": {},
   "outputs": [],
   "source": [
    "DO_LOGIN_AND_NAVIGATE=False\n",
    "DO_DELIVERY_SCAN=True"
   ]
  },
  {
   "cell_type": "code",
   "execution_count": null,
   "metadata": {},
   "outputs": [],
   "source": [
    "\n",
    "import sel_scrape as sc\n",
    "import pandas as pd\n",
    "import sys,os\n",
    "import datetime\n",
    "import urllib.request as ur\n",
    "import importlib\n",
    "import datetime\n",
    "import time\n",
    "import pdb\n",
    "import pathlib\n",
    "MY_HOME = str(pathlib.Path.home())"
   ]
  },
  {
   "cell_type": "code",
   "execution_count": null,
   "metadata": {},
   "outputs": [],
   "source": [
    "pd.set_option('display.max_colwidth', -1)\n",
    "PROFILE_PATH = f'{MY_HOME}/Library/Application Support/Google/Chrome/Default'"
   ]
  },
  {
   "cell_type": "markdown",
   "metadata": {},
   "source": [
    "### Try to login and navigate amazon whole foods\n",
    "This does not yet work b/c amazon senses automation"
   ]
  },
  {
   "cell_type": "code",
   "execution_count": null,
   "metadata": {},
   "outputs": [],
   "source": [
    "def __loop(slp_tm):\n",
    "    for _ in range(100):\n",
    "        try:\n",
    "            print('start')\n",
    "            sac = sc.SelScrape(headless=False,executable_path='./drivers/geckodriver')\n",
    "\n",
    "            ff = open('./temp_folder/smh.txt','r').read()\n",
    "            ffs = ff.split(',')\n",
    "            u = ffs[0]\n",
    "            p = ffs[1]\n",
    "            w = ffs[2]\n",
    "            sac.goto(w)\n",
    "\n",
    "            xp = '//input[@id=\"ap_email\"]'\n",
    "            sac.sendkeys(xp,u)\n",
    "            xp2 = '//input[@id=\"continue\"]'\n",
    "            result = sac.click_element(xp2)\n",
    "            if result['status'] is not None:\n",
    "                raise ValueError(result['status'])\n",
    "            sac.wait_implicitly(10)\n",
    "            time.sleep(slp_tm)\n",
    "\n",
    "            xp = '//input[@id=\"ap_password\"]'\n",
    "            sac.sendkeys(xp,p)\n",
    "            xp2 = '//input[@id=\"signInSubmit\"]'\n",
    "            result = sac.click_element(xp2)\n",
    "            if result['status'] is not None:\n",
    "                raise ValueError(result['status'])\n",
    "            sac.wait_implicitly(10)\n",
    "\n",
    "            xp2 = '//a[@id=\"nav-cart\"]'\n",
    "            result = sac.click_element(xp2)\n",
    "            if result['status'] is not None:\n",
    "                raise ValueError(result['status'])\n",
    "            sac.wait_implicitly(10)\n",
    "            time.sleep(slp_tm)\n",
    "            \n",
    "            xp2 = \"//input[contains(@name,'proceedToALMCheckout')]\"\n",
    "            result = sac.click_element(xp2)\n",
    "            if result['status'] is not None:\n",
    "                raise ValueError(result['status'])\n",
    "            sac.wait_implicitly(10)\n",
    "            time.sleep(slp_tm)\n",
    "\n",
    "            xp2 = \"//span[@id='a-autoid-0']//a[@name='proceedToCheckout']\"\n",
    "            result = sac.click_element(xp2)\n",
    "            if result['status'] is not None:\n",
    "                raise ValueError(result['status'])\n",
    "            sac.wait_implicitly(10)\n",
    "            time.sleep(slp_tm)\n",
    "\n",
    "            xp2 = \"//span[@id='subsContinueButton']//input[@class='a-button-input']\"\n",
    "            result = sac.click_element(xp2)\n",
    "            if result['status'] is not None:\n",
    "                raise ValueError(result['status'])\n",
    "            sac.wait_implicitly(10)\n",
    "            time.sleep(slp_tm)\n",
    "            \n",
    "            time.sleep(10)\n",
    "            r = find_available(sac)\n",
    "            if r:\n",
    "                print(\"success\")\n",
    "            else:\n",
    "                print(\"failure\")\n",
    "            \n",
    "        except Exception as e:\n",
    "            print(str(e))\n",
    "        sac.driver.quit()\n",
    "        time.sleep(60*60)\n"
   ]
  },
  {
   "cell_type": "code",
   "execution_count": null,
   "metadata": {},
   "outputs": [],
   "source": [
    "if DO_LOGIN_AND_NAVIGATE:\n",
    "    __loop()"
   ]
  },
  {
   "cell_type": "markdown",
   "metadata": {},
   "source": [
    "### Only refresh and scrape an already logined in amazon whole foods page\n",
    "This works, since you are only refreshing a page, and not clicking it"
   ]
  },
  {
   "cell_type": "code",
   "execution_count": null,
   "metadata": {},
   "outputs": [],
   "source": [
    "def find_available(sac):\n",
    "    t = datetime.datetime.now()\n",
    "    tm = t + datetime.timedelta(1)\n",
    "    t_yyyymmdd = str(int(t.year)*100*100 + int(t.month)*100 + int(t.day))\n",
    "    tm_yyyymmdd = str(int(tm.year)*100*100 + int(tm.month)*100 + int(tm.day))\n",
    "    but1 = f\"//button[@name='{t_yyyymmdd}']//div[@class='ufss-date-select-toggle-text-availability']\"\n",
    "    but1_elem = sac.findxpath(but1)\n",
    "    if but1_elem['status'] is None:\n",
    "        but1_elem = but1_elem['value'][0].text\n",
    "    print(but1_elem)\n",
    "\n",
    "    but2 = f\"//button[@name='{tm_yyyymmdd}']//div[@class='ufss-date-select-toggle-text-availability']\"\n",
    "    but2_elem = sac.findxpath(but1)\n",
    "    if but2_elem['status'] is None:\n",
    "        but2_elem = but2_elem['value'][0].text\n",
    "    print(but2_elem)\n",
    "    cond1 = 'not' in but1_elem.lower()\n",
    "    cond2 = 'not' in but2_elem.lower()\n",
    "    if not (cond1 and cond2):\n",
    "        return True\n",
    "    return False"
   ]
  },
  {
   "cell_type": "markdown",
   "metadata": {},
   "source": [
    "### create a webdriver"
   ]
  },
  {
   "cell_type": "code",
   "execution_count": null,
   "metadata": {
    "scrolled": true
   },
   "outputs": [],
   "source": [
    "if DO_DELIVERY_SCAN:    \n",
    "    pp=PROFILE_PATH\n",
    "    sac = sc.SelScrape(headless=False,driver_name='chrome',\n",
    "                      profile_path=pp)"
   ]
  },
  {
   "cell_type": "markdown",
   "metadata": {},
   "source": [
    "## You must now login to amazon/whole foods, add stuff to a shopping cart, and navigate through checkout until you get to the page that shows you available delivery dates\n",
    "\n",
    "#### The cell below pauses the workbook cell execution so that you can login, and navigate to the page above\n",
    "Hit enter to continue to running the loop that checks for time slots"
   ]
  },
  {
   "cell_type": "code",
   "execution_count": null,
   "metadata": {},
   "outputs": [],
   "source": [
    "input(\"Hit enter to continue AFTER YOU HAVE LOGGED IN AND NAVIGATED THROUGH CHECKOUT: \")"
   ]
  },
  {
   "cell_type": "markdown",
   "metadata": {},
   "source": [
    "### Execute loop that checks to see if a time slot is available on whole foods\n",
    "\n",
    "#### When a refresh of the delivery date page shows an available day, the loop will:\n",
    "1. Start to beep\n",
    "2. Execute an input statement.  This is to allow you to manually select the available date, and finish checkout.\n",
    "3. **!!!!!!!!!! DON'T HIT ENTER UNTIL YOU HAVE COMPLETED CHECKOUT !!!!!!!!!!**\n",
    "4. When you have finished checkout you can hit enter, and then hit the stop button in Jupyter Notebook."
   ]
  },
  {
   "cell_type": "code",
   "execution_count": null,
   "metadata": {
    "scrolled": true
   },
   "outputs": [],
   "source": [
    "if DO_DELIVERY_SCAN:        \n",
    "    for i in range(60*10):\n",
    "        url = sac.curr_url()\n",
    "        sac.goto(url)\n",
    "        t = True\n",
    "        try:\n",
    "            t = find_available(sac)\n",
    "        except:\n",
    "            pass\n",
    "        if t:\n",
    "            print(f\"{datetime.datetime.now()}\")\n",
    "            for _ in range(30):\n",
    "                os.system(\"echo -ne '\\007'\")\n",
    "                time.sleep(.5)\n",
    "            input('waiting to attempt to get delivery: hit return when finished')\n",
    "        time.sleep(60)"
   ]
  }
 ],
 "metadata": {
  "kernelspec": {
   "display_name": "Python 3",
   "language": "python",
   "name": "python3"
  },
  "language_info": {
   "codemirror_mode": {
    "name": "ipython",
    "version": 3
   },
   "file_extension": ".py",
   "mimetype": "text/x-python",
   "name": "python",
   "nbconvert_exporter": "python",
   "pygments_lexer": "ipython3",
   "version": "3.6.5"
  }
 },
 "nbformat": 4,
 "nbformat_minor": 2
}
