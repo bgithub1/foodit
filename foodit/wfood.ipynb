{
 "cells": [
  {
   "cell_type": "markdown",
   "metadata": {},
   "source": [
    "## Whole Foods Helper:"
   ]
  },
  {
   "cell_type": "code",
   "execution_count": 1,
   "metadata": {},
   "outputs": [],
   "source": [
    "DO_LOGIN_AND_NAVIGATE=False\n",
    "DO_DELIVERY_SCAN=True"
   ]
  },
  {
   "cell_type": "code",
   "execution_count": 2,
   "metadata": {},
   "outputs": [],
   "source": [
    "\n",
    "import sel_scrape as sc\n",
    "import pandas as pd\n",
    "import sys,os\n",
    "import datetime\n",
    "import urllib.request as ur\n",
    "import importlib\n",
    "import datetime\n",
    "import time\n",
    "import pdb\n",
    "import pathlib\n",
    "MY_HOME = str(pathlib.Path.home())"
   ]
  },
  {
   "cell_type": "code",
   "execution_count": 3,
   "metadata": {},
   "outputs": [
    {
     "name": "stderr",
     "output_type": "stream",
     "text": [
      "/Users/bperlman1/Virtualenvs3/dashrisk4/lib/python3.6/site-packages/ipykernel_launcher.py:1: FutureWarning: Passing a negative integer is deprecated in version 1.0 and will not be supported in future version. Instead, use None to not limit the column width.\n",
      "  \"\"\"Entry point for launching an IPython kernel.\n"
     ]
    }
   ],
   "source": [
    "pd.set_option('display.max_colwidth', -1)\n",
    "PROFILE_PATH = f'{MY_HOME}/Library/Application Support/Google/Chrome/Default'"
   ]
  },
  {
   "cell_type": "markdown",
   "metadata": {},
   "source": [
    "### Try to login and navigate amazon whole foods\n",
    "This does not yet work b/c amazon senses automation"
   ]
  },
  {
   "cell_type": "code",
   "execution_count": 4,
   "metadata": {},
   "outputs": [],
   "source": [
    "def __loop(slp_tm):\n",
    "    for _ in range(100):\n",
    "        try:\n",
    "            print('start')\n",
    "            sac = sc.SelScrape(headless=False,executable_path='./drivers/geckodriver')\n",
    "\n",
    "            ff = open('./temp_folder/smh.txt','r').read()\n",
    "            ffs = ff.split(',')\n",
    "            u = ffs[0]\n",
    "            p = ffs[1]\n",
    "            w = ffs[2]\n",
    "            sac.goto(w)\n",
    "\n",
    "            xp = '//input[@id=\"ap_email\"]'\n",
    "            sac.sendkeys(xp,u)\n",
    "            xp2 = '//input[@id=\"continue\"]'\n",
    "            result = sac.click_element(xp2)\n",
    "            if result['status'] is not None:\n",
    "                raise ValueError(result['status'])\n",
    "            sac.wait_implicitly(10)\n",
    "            time.sleep(slp_tm)\n",
    "\n",
    "            xp = '//input[@id=\"ap_password\"]'\n",
    "            sac.sendkeys(xp,p)\n",
    "            xp2 = '//input[@id=\"signInSubmit\"]'\n",
    "            result = sac.click_element(xp2)\n",
    "            if result['status'] is not None:\n",
    "                raise ValueError(result['status'])\n",
    "            sac.wait_implicitly(10)\n",
    "\n",
    "            xp2 = '//a[@id=\"nav-cart\"]'\n",
    "            result = sac.click_element(xp2)\n",
    "            if result['status'] is not None:\n",
    "                raise ValueError(result['status'])\n",
    "            sac.wait_implicitly(10)\n",
    "            time.sleep(slp_tm)\n",
    "            \n",
    "            xp2 = \"//input[contains(@name,'proceedToALMCheckout')]\"\n",
    "            result = sac.click_element(xp2)\n",
    "            if result['status'] is not None:\n",
    "                raise ValueError(result['status'])\n",
    "            sac.wait_implicitly(10)\n",
    "            time.sleep(slp_tm)\n",
    "\n",
    "            xp2 = \"//span[@id='a-autoid-0']//a[@name='proceedToCheckout']\"\n",
    "            result = sac.click_element(xp2)\n",
    "            if result['status'] is not None:\n",
    "                raise ValueError(result['status'])\n",
    "            sac.wait_implicitly(10)\n",
    "            time.sleep(slp_tm)\n",
    "\n",
    "            xp2 = \"//span[@id='subsContinueButton']//input[@class='a-button-input']\"\n",
    "            result = sac.click_element(xp2)\n",
    "            if result['status'] is not None:\n",
    "                raise ValueError(result['status'])\n",
    "            sac.wait_implicitly(10)\n",
    "            time.sleep(slp_tm)\n",
    "            \n",
    "            time.sleep(10)\n",
    "            r = find_available(sac)\n",
    "            if r:\n",
    "                print(\"success\")\n",
    "            else:\n",
    "                print(\"failure\")\n",
    "            \n",
    "        except Exception as e:\n",
    "            print(str(e))\n",
    "        sac.driver.quit()\n",
    "        time.sleep(60*60)\n"
   ]
  },
  {
   "cell_type": "code",
   "execution_count": 5,
   "metadata": {},
   "outputs": [],
   "source": [
    "if DO_LOGIN_AND_NAVIGATE:\n",
    "    __loop()"
   ]
  },
  {
   "cell_type": "markdown",
   "metadata": {},
   "source": [
    "### Only refresh and scrape an already logined in amazon whole foods page\n",
    "This works, since you are only refreshing a page, and not clicking it"
   ]
  },
  {
   "cell_type": "code",
   "execution_count": 6,
   "metadata": {},
   "outputs": [],
   "source": [
    "def find_available(sac):\n",
    "    t = datetime.datetime.now()\n",
    "    tm = t + datetime.timedelta(1)\n",
    "    t_yyyymmdd = str(int(t.year)*100*100 + int(t.month)*100 + int(t.day))\n",
    "    tm_yyyymmdd = str(int(tm.year)*100*100 + int(tm.month)*100 + int(tm.day))\n",
    "    but1 = f\"//button[@name='{t_yyyymmdd}']//div[@class='ufss-date-select-toggle-text-availability']\"\n",
    "    but1_elem = sac.findxpath(but1)\n",
    "    if but1_elem['status'] is None:\n",
    "        but1_elem = but1_elem['value'][0].text\n",
    "    print(but1_elem)\n",
    "\n",
    "    but2 = f\"//button[@name='{tm_yyyymmdd}']//div[@class='ufss-date-select-toggle-text-availability']\"\n",
    "    but2_elem = sac.findxpath(but1)\n",
    "    if but2_elem['status'] is None:\n",
    "        but2_elem = but2_elem['value'][0].text\n",
    "    else:\n",
    "        but2_elem = 'not'\n",
    "    print(but2_elem)\n",
    "    cond1 = 'not' in but1_elem.lower()\n",
    "    cond2 = 'not' in but2_elem.lower()\n",
    "    if not (cond1 and cond2):\n",
    "        return True\n",
    "    return False"
   ]
  },
  {
   "cell_type": "markdown",
   "metadata": {},
   "source": [
    "### create a webdriver"
   ]
  },
  {
   "cell_type": "code",
   "execution_count": 7,
   "metadata": {
    "scrolled": true
   },
   "outputs": [],
   "source": [
    "if DO_DELIVERY_SCAN:    \n",
    "    pp=PROFILE_PATH\n",
    "    sac = sc.SelScrape(headless=False,driver_name='chrome',\n",
    "                      profile_path=pp)\n",
    "    sac.wait_implicitly(2)\n"
   ]
  },
  {
   "cell_type": "markdown",
   "metadata": {},
   "source": [
    "## You must now login to amazon/whole foods, add stuff to a shopping cart, and navigate through checkout until you get to the page that shows you available delivery dates\n",
    "\n",
    "#### The cell below pauses the workbook cell execution so that you can login, and navigate to the page above\n",
    "Hit enter to continue to running the loop that checks for time slots"
   ]
  },
  {
   "cell_type": "code",
   "execution_count": 8,
   "metadata": {},
   "outputs": [
    {
     "name": "stdout",
     "output_type": "stream",
     "text": [
      "Hit enter to continue AFTER YOU HAVE LOGGED IN AND NAVIGATED THROUGH CHECKOUT: \n"
     ]
    },
    {
     "data": {
      "text/plain": [
       "''"
      ]
     },
     "execution_count": 8,
     "metadata": {},
     "output_type": "execute_result"
    }
   ],
   "source": [
    "input(\"Hit enter to continue AFTER YOU HAVE LOGGED IN AND NAVIGATED THROUGH CHECKOUT: \")"
   ]
  },
  {
   "cell_type": "markdown",
   "metadata": {},
   "source": [
    "### Execute loop that checks to see if a time slot is available on whole foods\n",
    "\n",
    "#### When a refresh of the delivery date page shows an available day, the loop will:\n",
    "1. Start to beep\n",
    "2. Execute an input statement.  This is to allow you to manually select the available date, and finish checkout.\n",
    "3. **!!!!!!!!!! DON'T HIT ENTER UNTIL YOU HAVE COMPLETED CHECKOUT !!!!!!!!!!**\n",
    "4. When you have finished checkout you can hit enter, and then hit the stop button in Jupyter Notebook."
   ]
  },
  {
   "cell_type": "code",
   "execution_count": 9,
   "metadata": {},
   "outputs": [],
   "source": [
    "# every minute\n",
    "# execution_minute_list = list(range(0,60))\n",
    "# only important minutes for wf\n",
    "execution_minute_list = [0,1] + list(range(11,52,10)) + [58,59]\n"
   ]
  },
  {
   "cell_type": "code",
   "execution_count": 10,
   "metadata": {},
   "outputs": [],
   "source": [
    "def check_wfoods():\n",
    "    url = sac.curr_url()\n",
    "    sac.goto(url)\n",
    "    time.sleep(1)\n",
    "    t = True\n",
    "    try:\n",
    "        t = find_available(sac)\n",
    "    except:\n",
    "        pass\n",
    "    if t:\n",
    "        print(f\"{datetime.datetime.now()}\")\n",
    "        for _ in range(30):\n",
    "            os.system(\"echo -ne '\\007'\")\n",
    "            time.sleep(.5)\n",
    "        input('waiting to attempt to get delivery: hit return when finished')\n",
    "    "
   ]
  },
  {
   "cell_type": "code",
   "execution_count": 11,
   "metadata": {},
   "outputs": [],
   "source": [
    "import datetime\n",
    "import time\n",
    "\n",
    "def wait_for_00(m,r=1000):\n",
    "    for _ in range(r):\n",
    "        n = datetime.datetime.now()\n",
    "        nt = n.time()\n",
    "        s = 60-nt.second\n",
    "        time.sleep(s)\n",
    "        nt = datetime.datetime.now().time()\n",
    "        if nt.minute in (m):\n",
    "            check_wfoods()\n",
    "            return\n"
   ]
  },
  {
   "cell_type": "code",
   "execution_count": 12,
   "metadata": {},
   "outputs": [
    {
     "name": "stdout",
     "output_type": "stream",
     "text": [
      "0,1,2,3,4,5,6,7,8,9,10,11,12,13,14,15,16,17,18,19,20,21,22,23,24,25,26,27,28,29,30,31,32,33,34,35,36,37,38,39,40,41,42,43,44,45,46,47,48,49,50,51,52,53,54,55,56,57,58,59\n",
      "{'status': 'not found', 'value': None}\n",
      "not\n",
      "2020-04-18 18:36:06.286198\n"
     ]
    },
    {
     "ename": "KeyboardInterrupt",
     "evalue": "",
     "output_type": "error",
     "traceback": [
      "\u001b[0;31m---------------------------------------------------------------------------\u001b[0m",
      "\u001b[0;31mKeyboardInterrupt\u001b[0m                         Traceback (most recent call last)",
      "\u001b[0;32m~/Virtualenvs3/dashrisk4/lib/python3.6/site-packages/ipykernel/kernelbase.py\u001b[0m in \u001b[0;36m_input_request\u001b[0;34m(self, prompt, ident, parent, password)\u001b[0m\n\u001b[1;32m    883\u001b[0m             \u001b[0;32mtry\u001b[0m\u001b[0;34m:\u001b[0m\u001b[0;34m\u001b[0m\u001b[0m\n\u001b[0;32m--> 884\u001b[0;31m                 \u001b[0mident\u001b[0m\u001b[0;34m,\u001b[0m \u001b[0mreply\u001b[0m \u001b[0;34m=\u001b[0m \u001b[0mself\u001b[0m\u001b[0;34m.\u001b[0m\u001b[0msession\u001b[0m\u001b[0;34m.\u001b[0m\u001b[0mrecv\u001b[0m\u001b[0;34m(\u001b[0m\u001b[0mself\u001b[0m\u001b[0;34m.\u001b[0m\u001b[0mstdin_socket\u001b[0m\u001b[0;34m,\u001b[0m \u001b[0;36m0\u001b[0m\u001b[0;34m)\u001b[0m\u001b[0;34m\u001b[0m\u001b[0m\n\u001b[0m\u001b[1;32m    885\u001b[0m             \u001b[0;32mexcept\u001b[0m \u001b[0mException\u001b[0m\u001b[0;34m:\u001b[0m\u001b[0;34m\u001b[0m\u001b[0m\n",
      "\u001b[0;32m~/Virtualenvs3/dashrisk4/lib/python3.6/site-packages/jupyter_client/session.py\u001b[0m in \u001b[0;36mrecv\u001b[0;34m(self, socket, mode, content, copy)\u001b[0m\n\u001b[1;32m    802\u001b[0m         \u001b[0;32mtry\u001b[0m\u001b[0;34m:\u001b[0m\u001b[0;34m\u001b[0m\u001b[0m\n\u001b[0;32m--> 803\u001b[0;31m             \u001b[0mmsg_list\u001b[0m \u001b[0;34m=\u001b[0m \u001b[0msocket\u001b[0m\u001b[0;34m.\u001b[0m\u001b[0mrecv_multipart\u001b[0m\u001b[0;34m(\u001b[0m\u001b[0mmode\u001b[0m\u001b[0;34m,\u001b[0m \u001b[0mcopy\u001b[0m\u001b[0;34m=\u001b[0m\u001b[0mcopy\u001b[0m\u001b[0;34m)\u001b[0m\u001b[0;34m\u001b[0m\u001b[0m\n\u001b[0m\u001b[1;32m    804\u001b[0m         \u001b[0;32mexcept\u001b[0m \u001b[0mzmq\u001b[0m\u001b[0;34m.\u001b[0m\u001b[0mZMQError\u001b[0m \u001b[0;32mas\u001b[0m \u001b[0me\u001b[0m\u001b[0;34m:\u001b[0m\u001b[0;34m\u001b[0m\u001b[0m\n",
      "\u001b[0;32m~/Virtualenvs3/dashrisk4/lib/python3.6/site-packages/zmq/sugar/socket.py\u001b[0m in \u001b[0;36mrecv_multipart\u001b[0;34m(self, flags, copy, track)\u001b[0m\n\u001b[1;32m    474\u001b[0m         \"\"\"\n\u001b[0;32m--> 475\u001b[0;31m         \u001b[0mparts\u001b[0m \u001b[0;34m=\u001b[0m \u001b[0;34m[\u001b[0m\u001b[0mself\u001b[0m\u001b[0;34m.\u001b[0m\u001b[0mrecv\u001b[0m\u001b[0;34m(\u001b[0m\u001b[0mflags\u001b[0m\u001b[0;34m,\u001b[0m \u001b[0mcopy\u001b[0m\u001b[0;34m=\u001b[0m\u001b[0mcopy\u001b[0m\u001b[0;34m,\u001b[0m \u001b[0mtrack\u001b[0m\u001b[0;34m=\u001b[0m\u001b[0mtrack\u001b[0m\u001b[0;34m)\u001b[0m\u001b[0;34m]\u001b[0m\u001b[0;34m\u001b[0m\u001b[0m\n\u001b[0m\u001b[1;32m    476\u001b[0m         \u001b[0;31m# have first part already, only loop while more to receive\u001b[0m\u001b[0;34m\u001b[0m\u001b[0;34m\u001b[0m\u001b[0m\n",
      "\u001b[0;32mzmq/backend/cython/socket.pyx\u001b[0m in \u001b[0;36mzmq.backend.cython.socket.Socket.recv\u001b[0;34m()\u001b[0m\n",
      "\u001b[0;32mzmq/backend/cython/socket.pyx\u001b[0m in \u001b[0;36mzmq.backend.cython.socket.Socket.recv\u001b[0;34m()\u001b[0m\n",
      "\u001b[0;32mzmq/backend/cython/socket.pyx\u001b[0m in \u001b[0;36mzmq.backend.cython.socket._recv_copy\u001b[0;34m()\u001b[0m\n",
      "\u001b[0;32m~/Virtualenvs3/dashrisk4/lib/python3.6/site-packages/zmq/backend/cython/checkrc.pxd\u001b[0m in \u001b[0;36mzmq.backend.cython.checkrc._check_rc\u001b[0;34m()\u001b[0m\n",
      "\u001b[0;31mKeyboardInterrupt\u001b[0m: ",
      "\nDuring handling of the above exception, another exception occurred:\n",
      "\u001b[0;31mKeyboardInterrupt\u001b[0m                         Traceback (most recent call last)",
      "\u001b[0;32m<ipython-input-12-f7a34598181e>\u001b[0m in \u001b[0;36m<module>\u001b[0;34m\u001b[0m\n\u001b[1;32m      3\u001b[0m     \u001b[0mprint\u001b[0m\u001b[0;34m(\u001b[0m\u001b[0;34m\",\"\u001b[0m\u001b[0;34m.\u001b[0m\u001b[0mjoin\u001b[0m\u001b[0;34m(\u001b[0m\u001b[0;34m[\u001b[0m\u001b[0mstr\u001b[0m\u001b[0;34m(\u001b[0m\u001b[0mx\u001b[0m\u001b[0;34m)\u001b[0m \u001b[0;32mfor\u001b[0m \u001b[0mx\u001b[0m \u001b[0;32min\u001b[0m \u001b[0mr\u001b[0m\u001b[0;34m]\u001b[0m\u001b[0;34m)\u001b[0m\u001b[0;34m)\u001b[0m\u001b[0;34m\u001b[0m\u001b[0m\n\u001b[1;32m      4\u001b[0m     \u001b[0;32mfor\u001b[0m \u001b[0m_\u001b[0m \u001b[0;32min\u001b[0m \u001b[0mrange\u001b[0m\u001b[0;34m(\u001b[0m\u001b[0;36m60\u001b[0m\u001b[0;34m*\u001b[0m\u001b[0;36m10\u001b[0m\u001b[0;34m)\u001b[0m\u001b[0;34m:\u001b[0m\u001b[0;34m\u001b[0m\u001b[0m\n\u001b[0;32m----> 5\u001b[0;31m         \u001b[0mwait_for_00\u001b[0m\u001b[0;34m(\u001b[0m\u001b[0mr\u001b[0m\u001b[0;34m)\u001b[0m\u001b[0;34m\u001b[0m\u001b[0m\n\u001b[0m",
      "\u001b[0;32m<ipython-input-11-5898a9d63993>\u001b[0m in \u001b[0;36mwait_for_00\u001b[0;34m(m, r)\u001b[0m\n\u001b[1;32m     10\u001b[0m         \u001b[0mnt\u001b[0m \u001b[0;34m=\u001b[0m \u001b[0mdatetime\u001b[0m\u001b[0;34m.\u001b[0m\u001b[0mdatetime\u001b[0m\u001b[0;34m.\u001b[0m\u001b[0mnow\u001b[0m\u001b[0;34m(\u001b[0m\u001b[0;34m)\u001b[0m\u001b[0;34m.\u001b[0m\u001b[0mtime\u001b[0m\u001b[0;34m(\u001b[0m\u001b[0;34m)\u001b[0m\u001b[0;34m\u001b[0m\u001b[0m\n\u001b[1;32m     11\u001b[0m         \u001b[0;32mif\u001b[0m \u001b[0mnt\u001b[0m\u001b[0;34m.\u001b[0m\u001b[0mminute\u001b[0m \u001b[0;32min\u001b[0m \u001b[0;34m(\u001b[0m\u001b[0mm\u001b[0m\u001b[0;34m)\u001b[0m\u001b[0;34m:\u001b[0m\u001b[0;34m\u001b[0m\u001b[0m\n\u001b[0;32m---> 12\u001b[0;31m             \u001b[0mcheck_wfoods\u001b[0m\u001b[0;34m(\u001b[0m\u001b[0;34m)\u001b[0m\u001b[0;34m\u001b[0m\u001b[0m\n\u001b[0m\u001b[1;32m     13\u001b[0m             \u001b[0;32mreturn\u001b[0m\u001b[0;34m\u001b[0m\u001b[0m\n",
      "\u001b[0;32m<ipython-input-10-de5c88b071a6>\u001b[0m in \u001b[0;36mcheck_wfoods\u001b[0;34m()\u001b[0m\n\u001b[1;32m     13\u001b[0m             \u001b[0mos\u001b[0m\u001b[0;34m.\u001b[0m\u001b[0msystem\u001b[0m\u001b[0;34m(\u001b[0m\u001b[0;34m\"echo -ne '\\007'\"\u001b[0m\u001b[0;34m)\u001b[0m\u001b[0;34m\u001b[0m\u001b[0m\n\u001b[1;32m     14\u001b[0m             \u001b[0mtime\u001b[0m\u001b[0;34m.\u001b[0m\u001b[0msleep\u001b[0m\u001b[0;34m(\u001b[0m\u001b[0;36m.5\u001b[0m\u001b[0;34m)\u001b[0m\u001b[0;34m\u001b[0m\u001b[0m\n\u001b[0;32m---> 15\u001b[0;31m         \u001b[0minput\u001b[0m\u001b[0;34m(\u001b[0m\u001b[0;34m'waiting to attempt to get delivery: hit return when finished'\u001b[0m\u001b[0;34m)\u001b[0m\u001b[0;34m\u001b[0m\u001b[0m\n\u001b[0m\u001b[1;32m     16\u001b[0m \u001b[0;34m\u001b[0m\u001b[0m\n",
      "\u001b[0;32m~/Virtualenvs3/dashrisk4/lib/python3.6/site-packages/ipykernel/kernelbase.py\u001b[0m in \u001b[0;36mraw_input\u001b[0;34m(self, prompt)\u001b[0m\n\u001b[1;32m    857\u001b[0m             \u001b[0mself\u001b[0m\u001b[0;34m.\u001b[0m\u001b[0m_parent_ident\u001b[0m\u001b[0;34m,\u001b[0m\u001b[0;34m\u001b[0m\u001b[0m\n\u001b[1;32m    858\u001b[0m             \u001b[0mself\u001b[0m\u001b[0;34m.\u001b[0m\u001b[0m_parent_header\u001b[0m\u001b[0;34m,\u001b[0m\u001b[0;34m\u001b[0m\u001b[0m\n\u001b[0;32m--> 859\u001b[0;31m             \u001b[0mpassword\u001b[0m\u001b[0;34m=\u001b[0m\u001b[0;32mFalse\u001b[0m\u001b[0;34m,\u001b[0m\u001b[0;34m\u001b[0m\u001b[0m\n\u001b[0m\u001b[1;32m    860\u001b[0m         )\n\u001b[1;32m    861\u001b[0m \u001b[0;34m\u001b[0m\u001b[0m\n",
      "\u001b[0;32m~/Virtualenvs3/dashrisk4/lib/python3.6/site-packages/ipykernel/kernelbase.py\u001b[0m in \u001b[0;36m_input_request\u001b[0;34m(self, prompt, ident, parent, password)\u001b[0m\n\u001b[1;32m    887\u001b[0m             \u001b[0;32mexcept\u001b[0m \u001b[0mKeyboardInterrupt\u001b[0m\u001b[0;34m:\u001b[0m\u001b[0;34m\u001b[0m\u001b[0m\n\u001b[1;32m    888\u001b[0m                 \u001b[0;31m# re-raise KeyboardInterrupt, to truncate traceback\u001b[0m\u001b[0;34m\u001b[0m\u001b[0;34m\u001b[0m\u001b[0m\n\u001b[0;32m--> 889\u001b[0;31m                 \u001b[0;32mraise\u001b[0m \u001b[0mKeyboardInterrupt\u001b[0m\u001b[0;34m\u001b[0m\u001b[0m\n\u001b[0m\u001b[1;32m    890\u001b[0m             \u001b[0;32melse\u001b[0m\u001b[0;34m:\u001b[0m\u001b[0;34m\u001b[0m\u001b[0m\n\u001b[1;32m    891\u001b[0m                 \u001b[0;32mbreak\u001b[0m\u001b[0;34m\u001b[0m\u001b[0m\n",
      "\u001b[0;31mKeyboardInterrupt\u001b[0m: "
     ]
    }
   ],
   "source": [
    "if DO_DELIVERY_SCAN:        \n",
    "    r = execution_minute_list\n",
    "    print(\",\".join([str(x) for x in r]))\n",
    "    for _ in range(60*10):\n",
    "        wait_for_00(r)"
   ]
  },
  {
   "cell_type": "code",
   "execution_count": null,
   "metadata": {
    "scrolled": false
   },
   "outputs": [],
   "source": [
    "# wait_time_between_scans = 60*5\n",
    "# if DO_DELIVERY_SCAN:        \n",
    "#     for i in range(60*10):\n",
    "#         url = sac.curr_url()\n",
    "#         sac.goto(url)\n",
    "#         t = True\n",
    "#         try:\n",
    "#             t = find_available(sac)\n",
    "#         except:\n",
    "#             pass\n",
    "#         if t:\n",
    "#             print(f\"{datetime.datetime.now()}\")\n",
    "#             for _ in range(30):\n",
    "#                 os.system(\"echo -ne '\\007'\")\n",
    "#                 time.sleep(.5)\n",
    "#             input('waiting to attempt to get delivery: hit return when finished')\n",
    "#         time.sleep(wait_time_between_scans)"
   ]
  },
  {
   "cell_type": "code",
   "execution_count": null,
   "metadata": {},
   "outputs": [],
   "source": []
  }
 ],
 "metadata": {
  "kernelspec": {
   "display_name": "Python 3",
   "language": "python",
   "name": "python3"
  },
  "language_info": {
   "codemirror_mode": {
    "name": "ipython",
    "version": 3
   },
   "file_extension": ".py",
   "mimetype": "text/x-python",
   "name": "python",
   "nbconvert_exporter": "python",
   "pygments_lexer": "ipython3",
   "version": "3.6.5"
  }
 },
 "nbformat": 4,
 "nbformat_minor": 2
}
