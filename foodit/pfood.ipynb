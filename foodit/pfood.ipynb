{
 "cells": [
  {
   "cell_type": "code",
   "execution_count": 1,
   "metadata": {},
   "outputs": [],
   "source": [
    "\n",
    "import sel_scrape as sc\n",
    "import pandas as pd\n",
    "import sys,os\n",
    "import datetime\n",
    "import urllib.request as ur\n",
    "import importlib\n",
    "import datetime\n",
    "import time\n",
    "import pdb\n",
    "import pathlib\n",
    "MY_HOME = str(pathlib.Path.home())"
   ]
  },
  {
   "cell_type": "code",
   "execution_count": null,
   "metadata": {},
   "outputs": [],
   "source": [
    "pd.set_option('display.max_colwidth', -1)\n",
    "PROFILE_PATH = f'{MY_HOME}/Library/Application Support/Google/Chrome/Default'"
   ]
  },
  {
   "cell_type": "markdown",
   "metadata": {},
   "source": [
    "### Scrap Peapod for new delivery times\n",
    "1. Fill in a date for the variable ```month_dd```\n",
    "2. Run the cells below"
   ]
  },
  {
   "cell_type": "code",
   "execution_count": null,
   "metadata": {},
   "outputs": [],
   "source": [
    "month_dd = \"April 25\"\n",
    "wait_time_between_loops = 5*60 # 5 minutes"
   ]
  },
  {
   "cell_type": "markdown",
   "metadata": {},
   "source": [
    "### Define import methods to click and search"
   ]
  },
  {
   "cell_type": "code",
   "execution_count": null,
   "metadata": {},
   "outputs": [],
   "source": [
    "def dismiss_modal(sac):\n",
    "    modal_close = \"//span[@class='optly-modal-close']\"\n",
    "    el = sac.findxpath(modal_close)\n",
    "    if el is not None and el['status'] is None:\n",
    "        sac.click_element(modal_close)\n",
    "\n",
    "\n",
    "def click_and_wait(d,sac,wait_time=2):\n",
    "    for _ in range(2):\n",
    "        el = sac.findxpath(d)    \n",
    "        if el is not None and el['status'] is None:\n",
    "            c1 = sac.click_element(d)\n",
    "            return c1\n",
    "        time.sleep(wait_time)\n",
    "    return None        \n",
    "\n",
    "def click_pickup_times(sac,wait_time=2):\n",
    "    d= \"//a[@aria-label='footer delivery / pick-up times']\"\n",
    "    return click_and_wait(d,sac,wait_time=wait_time)\n",
    "\n",
    "def click_edit_times(sac,wait_time=2):\n",
    "    d= \"//button[contains(@class,'button--prime button-width--med')]\"\n",
    "    return click_and_wait(d,sac,wait_time=wait_time)\n",
    "\n",
    "def click_continue_shopping(sac,wait_time=2):\n",
    "    d = \"//button[@id='slot-continue-shopping-button']\"\n",
    "    return click_and_wait(d,sac,wait_time=wait_time)\n",
    "\n",
    "def find_peapod(sac,month_dd):\n",
    "    timexp = f\"//li[contains(@aria-label,'{month_dd}')]\"\n",
    "\n",
    "    el=None\n",
    "    found = False\n",
    "    try:\n",
    "        el = sac.findxpath(timexp)\n",
    "    except:\n",
    "        pass\n",
    "    if el is not None:\n",
    "        if el['status'] is None:\n",
    "            print(datetime.datetime.now())\n",
    "            print(el['value'][0].text)\n",
    "            found=True\n",
    "    return found"
   ]
  },
  {
   "cell_type": "markdown",
   "metadata": {},
   "source": [
    "### Step 01: create a browser window"
   ]
  },
  {
   "cell_type": "code",
   "execution_count": null,
   "metadata": {},
   "outputs": [],
   "source": [
    "pp=PROFILE_PATH\n",
    "sac = sc.SelScrape(headless=False,driver_name='chrome',\n",
    "                  profile_path=pp)\n",
    "#                    executable_path='./drivers/geckodriver')"
   ]
  },
  {
   "cell_type": "code",
   "execution_count": null,
   "metadata": {
    "scrolled": true
   },
   "outputs": [],
   "source": [
    "sac.goto('https://www.peapod.com/')\n",
    "time.sleep(2)\n",
    "print('try to dismiss modal')\n",
    "dismiss_modal(sac)\n",
    "\n",
    "input(\"Make sure that you are logged ub to Peapod, hit enter to continue, hit the stop buttom to stop: \")\n",
    "\n"
   ]
  },
  {
   "cell_type": "markdown",
   "metadata": {},
   "source": [
    "### Scan for new peapod month and year"
   ]
  },
  {
   "cell_type": "code",
   "execution_count": null,
   "metadata": {},
   "outputs": [],
   "source": [
    "found=False\n",
    "while not found:\n",
    "    print(\"click pickup times\")\n",
    "    click_pickup_times(sac)\n",
    "    time.sleep(2)\n",
    "    print(\"click edit times\")\n",
    "    click_edit_times(sac)\n",
    "    time.sleep(2)\n",
    "    print(\"find date\")\n",
    "    found = find_peapod(sac,month_dd)\n",
    "    if not found:\n",
    "        time.sleep(2)\n",
    "        print('continue_shopping')\n",
    "        click_continue_shopping(sac)\n",
    "        time.sleep(wait_time_between_loops)\n",
    "    else:\n",
    "        print(f'found date at {datetime.datetime.now()}')\n",
    "        for _ in range(30):\n",
    "            os.system(\"echo -ne '\\007'\")\n",
    "            time.sleep(.5)\n",
    "        input('waiting to attempt to get delivery: hit return when finished')\n",
    "        "
   ]
  },
  {
   "cell_type": "code",
   "execution_count": null,
   "metadata": {},
   "outputs": [],
   "source": []
  }
 ],
 "metadata": {
  "kernelspec": {
   "display_name": "Python 3",
   "language": "python",
   "name": "python3"
  },
  "language_info": {
   "codemirror_mode": {
    "name": "ipython",
    "version": 3
   },
   "file_extension": ".py",
   "mimetype": "text/x-python",
   "name": "python",
   "nbconvert_exporter": "python",
   "pygments_lexer": "ipython3",
   "version": "3.6.5"
  }
 },
 "nbformat": 4,
 "nbformat_minor": 2
}
